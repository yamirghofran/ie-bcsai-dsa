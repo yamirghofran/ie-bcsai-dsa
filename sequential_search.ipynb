{
  "nbformat": 4,
  "nbformat_minor": 0,
  "metadata": {
    "colab": {
      "provenance": []
    },
    "kernelspec": {
      "name": "python3",
      "display_name": "Python 3"
    },
    "language_info": {
      "name": "python"
    }
  },
  "cells": [
    {
      "cell_type": "markdown",
      "source": [
        "# Using Sequential Search to find a palindrome\n",
        "Code a function is_palindrome that receives an array as input and returns True if its content forms a palindrome."
      ],
      "metadata": {
        "id": "7zRemLMLelp8"
      }
    },
    {
      "cell_type": "code",
      "execution_count": null,
      "metadata": {
        "id": "KYfpC_7h304-"
      },
      "outputs": [],
      "source": [
        "def is_palindrome(arr: list) -> bool: # [1, 2, 3, 2, 1]\n",
        "  for i in range(0, len(arr) // 2):\n",
        "    if arr[i] != arr[len(arr) - i - 1]:\n",
        "      return False\n",
        "  return True"
      ]
    },
    {
      "cell_type": "code",
      "source": [
        "is_palindrome([1, 2, 3, 2])"
      ],
      "metadata": {
        "colab": {
          "base_uri": "https://localhost:8080/"
        },
        "id": "ts3ZE3ve6nv5",
        "outputId": "ae143e5e-7825-4b12-e32f-8cef25647b25"
      },
      "execution_count": null,
      "outputs": [
        {
          "output_type": "execute_result",
          "data": {
            "text/plain": [
              "False"
            ]
          },
          "metadata": {},
          "execution_count": 6
        }
      ]
    },
    {
      "cell_type": "markdown",
      "source": [
        "# Max Repeated\n",
        "Use sequential search to find the largest set of equal consecutive elements within an array.\n",
        "\n",
        "Code a function ***max_repeated*** that receives an array and returns the largest occurrence of a sequence of repeated elements. For instance, given A = [1, 2, 2, 2, 3, 3, 4, 2, 1], it should return the array [2, 2, 2]."
      ],
      "metadata": {
        "id": "_N7SwzQget9H"
      }
    },
    {
      "cell_type": "code",
      "source": [
        "def max_repeated(arr: list) -> list:\n",
        "  candidate = []  # Array where we store the candidates to be the largest sequences of repeated items\n",
        "  temp = [] # Array where we hold the sequence of repeated items being currently built\n",
        "  current_element = None # transient holder of the value for which the current temp sequence is being built\n",
        "  for i in range(len(arr)): # For all the indices of the array, from 0 to the len(arr) - 1 (remember range is a function that creates a range of numbers between two numbers (starting at 0 by default), whose interval is open at the beginning and closed at the end)\n",
        "    if current_element is None: # True only for the first iteration of the loop\n",
        "      current_element = arr[i] # Initialize current_element with the calue held at arr[i].\n",
        "      temp.append(arr[i])  # We will then start accumulating in temp all the elements equal to current_element\n",
        "    elif current_element == arr[i]: # In subsequence iterations, keep accumulating equal values in the temp array\n",
        "      temp.append(arr[i])\n",
        "    else: # The element found at position i is different than current_element, so we stop accumulating\n",
        "      if len(temp) > len(candidate):  # We evaluate if the length of the temp accumulator is greater than the current candidate to be the largest set of equal consecutive elements.\n",
        "        candidate = temp # if that is the case, we now consider temp to be the new candidate to largest set.\n",
        "      current_element = arr[i] # Since the element changed, we reassign the current_element to count on it\n",
        "      temp = [arr[i]] # and so we do creating a new temp instance, holding the current value.\n",
        "  return candidate\n"
      ],
      "metadata": {
        "id": "3oPro06H9P7k"
      },
      "execution_count": null,
      "outputs": []
    }
  ]
}