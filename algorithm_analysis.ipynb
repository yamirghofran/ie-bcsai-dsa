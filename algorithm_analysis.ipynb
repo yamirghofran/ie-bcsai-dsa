{
  "nbformat": 4,
  "nbformat_minor": 0,
  "metadata": {
    "colab": {
      "provenance": []
    },
    "kernelspec": {
      "name": "python3",
      "display_name": "Python 3"
    },
    "language_info": {
      "name": "python"
    }
  },
  "cells": [
    {
      "cell_type": "code",
      "execution_count": null,
      "metadata": {
        "id": "ATszT2CPz8qg"
      },
      "outputs": [],
      "source": [
        "def is_prime(n: int) -> bool:  # O(sqrt(n))\n",
        "  if n < 2:  # O(1)\n",
        "    return False  # O(1)\n",
        "  for i in range(2, n**0.5 + 1):  # O(sqrt(n))\n",
        "    if n % i == 0:\n",
        "      return False\n",
        "  return True"
      ]
    },
    {
      "cell_type": "code",
      "source": [
        "def prime_count(n: int) -> int:\n",
        "  counter = 0  # O(1)\n",
        "  for i in range(2, n + 1): # O(n)\n",
        "    if is_prime(i):  # O(n sqrt(n))\n",
        "      counter += 1  # O(n)\n",
        "  return counter # O(1)\n",
        "\n",
        "# O(..) = O(1) + O(n) + O(n sqrt(n)) + O(n) + O(1)"
      ],
      "metadata": {
        "id": "fYOwC4r13NcV"
      },
      "execution_count": null,
      "outputs": []
    },
    {
      "cell_type": "code",
      "source": [
        "def count_inversions(arr: list) -> int:\n",
        "  counter = 0\n",
        "  for i in range(len(arr) - 1):\n",
        "    for j in range(i + 1, len(arr)):\n",
        "      if arr[i] > arr[j]:\n",
        "        counter += 1\n",
        "  return counter\n",
        "\n"
      ],
      "metadata": {
        "id": "bT1XjB-M8REy"
      },
      "execution_count": null,
      "outputs": []
    },
    {
      "cell_type": "code",
      "source": [
        "count_inversions([2, 3, 8, 6, 1])"
      ],
      "metadata": {
        "colab": {
          "base_uri": "https://localhost:8080/"
        },
        "id": "swtrfdTV9DIb",
        "outputId": "0894c676-a9af-4d52-8e83-397320717639"
      },
      "execution_count": null,
      "outputs": [
        {
          "output_type": "execute_result",
          "data": {
            "text/plain": [
              "5"
            ]
          },
          "metadata": {},
          "execution_count": 4
        }
      ]
    }
  ]
}