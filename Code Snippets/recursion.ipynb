{
  "nbformat": 4,
  "nbformat_minor": 0,
  "metadata": {
    "colab": {
      "provenance": []
    },
    "kernelspec": {
      "name": "python3",
      "display_name": "Python 3"
    },
    "language_info": {
      "name": "python"
    }
  },
  "cells": [
    {
      "cell_type": "code",
      "execution_count": null,
      "metadata": {
        "id": "RL6BsK7H4rpA"
      },
      "outputs": [],
      "source": [
        "def countdown(n):\n",
        "  print(n)\n",
        "  if n > 0:\n",
        "    countdown(n - 1)\n"
      ]
    },
    {
      "cell_type": "code",
      "source": [
        "countdown(5)"
      ],
      "metadata": {
        "id": "qFbjnhEs5JyU"
      },
      "execution_count": null,
      "outputs": []
    },
    {
      "cell_type": "code",
      "source": [
        "def power(x: int, y: int) -> int:\n",
        "  if y == 0:\n",
        "    return 1\n",
        "  return x * power(x, y - 1)  # return x * x * x *x ....."
      ],
      "metadata": {
        "id": "m_BsiB-27uOm"
      },
      "execution_count": null,
      "outputs": []
    },
    {
      "cell_type": "code",
      "source": [
        "power(2, 3)"
      ],
      "metadata": {
        "colab": {
          "base_uri": "https://localhost:8080/"
        },
        "id": "6EMwDPfQ8zer",
        "outputId": "c2062b3a-84c9-4fce-bb33-676708d70b4d"
      },
      "execution_count": null,
      "outputs": [
        {
          "output_type": "execute_result",
          "data": {
            "text/plain": [
              "8"
            ]
          },
          "metadata": {},
          "execution_count": 7
        }
      ]
    },
    {
      "cell_type": "code",
      "source": [
        "def factorial(n):\n",
        "  if n == 1:\n",
        "    return 1\n",
        "  return n * factorial(n - 1)"
      ],
      "metadata": {
        "id": "9P7Plwi-_MZX"
      },
      "execution_count": null,
      "outputs": []
    },
    {
      "cell_type": "code",
      "source": [
        "factorial(5)"
      ],
      "metadata": {
        "colab": {
          "base_uri": "https://localhost:8080/"
        },
        "id": "7y7bqfSM_mFS",
        "outputId": "165dc8a6-3418-4cbc-e838-814ea358b7a2"
      },
      "execution_count": null,
      "outputs": [
        {
          "output_type": "execute_result",
          "data": {
            "text/plain": [
              "120"
            ]
          },
          "metadata": {},
          "execution_count": 9
        }
      ]
    },
    {
      "cell_type": "code",
      "source": [
        "def fib(n: int) -> int:\n",
        "  if n <= 1:\n",
        "    return n\n",
        "  return fib(n - 1) + fib(n - 2)\n"
      ],
      "metadata": {
        "id": "CYgM8GfuBIg6"
      },
      "execution_count": null,
      "outputs": []
    },
    {
      "cell_type": "code",
      "source": [
        "fib(10)"
      ],
      "metadata": {
        "colab": {
          "base_uri": "https://localhost:8080/"
        },
        "id": "py4QLaMlBoYM",
        "outputId": "36afd0b0-ebfe-4528-b7c7-45f666b80188"
      },
      "execution_count": null,
      "outputs": [
        {
          "output_type": "execute_result",
          "data": {
            "text/plain": [
              "55"
            ]
          },
          "metadata": {},
          "execution_count": 12
        }
      ]
    },
    {
      "cell_type": "markdown",
      "source": [
        "# Hanoi Towers\n",
        "The function below prints the movements that should be made to solve the Hanoi Tower problem, when three rods are given, for any number of disks.\n",
        "\n",
        "https://yongdanielliang.github.io/animation/web/TowerOfHanoi.html\n",
        "\n",
        "The algorithm is so simple, and yet very powerful. For each disk, in order to move it to the desired destination, we must move any smaller disk on top of it to their destinations. Therefore we define three steps:\n",
        "1. for a given disk `n` (represented by an integer, where the larger the value, the larger the disk), move all smaller disks on top of it to their auxiliary rod\n",
        "2. Move the current disk to its destination (just print the movement)\n",
        "3. Move any disk on an auxiliary rod back to the final destination"
      ],
      "metadata": {
        "id": "I5efIOOwiePZ"
      }
    },
    {
      "cell_type": "code",
      "source": [
        "def hanoi(n: int, from_rod: str, to_rod: str, aux_rod: str) -> None:\n",
        "  # n is the disk size, from any value down to 1. The greater n, the larger the disk\n",
        "  if n == 0:\n",
        "    return\n",
        "  hanoi(n - 1, from_rod, aux_rod, to_rod)  # Move all the disks on top of disk n from the start tower to the aux tower (using the destination tower as auxilary rod)\n",
        "  print(f\"Move disc {n} from {from_rod} to {to_rod}\")  # Now you can move the current disk n from the start tower `from_rod` to its final destination: `to_rod`\n",
        "  hanoi(n - 1, aux_rod, to_rod, from_rod)  # Now it's time to move all these disks that were sitting on top of n, this is, from n-1 down to 1, to the final destination, where our disk n is already\n"
      ],
      "metadata": {
        "id": "LRiZPAgYCU6X"
      },
      "execution_count": null,
      "outputs": []
    },
    {
      "cell_type": "code",
      "source": [
        "hanoi(3, \"A\", \"B\", \"C\")"
      ],
      "metadata": {
        "colab": {
          "base_uri": "https://localhost:8080/"
        },
        "id": "u6EDhnfxEeVI",
        "outputId": "48315801-e771-4a9f-a16e-29f6c5efa115"
      },
      "execution_count": null,
      "outputs": [
        {
          "output_type": "stream",
          "name": "stdout",
          "text": [
            "Move disc 1 from A to B\n",
            "Move disc 2 from A to C\n",
            "Move disc 1 from B to C\n",
            "Move disc 3 from A to B\n",
            "Move disc 1 from C to A\n",
            "Move disc 2 from C to B\n",
            "Move disc 1 from A to B\n"
          ]
        }
      ]
    }
  ]
}