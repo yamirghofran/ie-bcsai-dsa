{
  "nbformat": 4,
  "nbformat_minor": 0,
  "metadata": {
    "colab": {
      "provenance": []
    },
    "kernelspec": {
      "name": "python3",
      "display_name": "Python 3"
    },
    "language_info": {
      "name": "python"
    }
  },
  "cells": [
    {
      "cell_type": "code",
      "execution_count": null,
      "metadata": {
        "id": "gLro2CvtmuSg"
      },
      "outputs": [],
      "source": [
        "def binary_search(arr: list, value: int) -> int:\n",
        "  left = 0\n",
        "  right = len(arr) - 1\n",
        "  while left <= right:\n",
        "    mid = (left + right) // 2\n",
        "    if arr[mid] == value:\n",
        "      return mid\n",
        "    if arr[mid] > value:\n",
        "      right = mid - 1\n",
        "    else:\n",
        "      left = mid + 1\n",
        "  return -1"
      ]
    },
    {
      "cell_type": "code",
      "source": [
        "binary_search([1, 2, 3, 4, 7, 9, 11, 14, 18, 20], 20)"
      ],
      "metadata": {
        "colab": {
          "base_uri": "https://localhost:8080/"
        },
        "id": "dCIuvh6rr7wU",
        "outputId": "f1a59a53-6629-4b42-80ca-c8c2e902050b"
      },
      "execution_count": null,
      "outputs": [
        {
          "output_type": "execute_result",
          "data": {
            "text/plain": [
              "9"
            ]
          },
          "metadata": {},
          "execution_count": 3
        }
      ]
    },
    {
      "cell_type": "code",
      "source": [
        "def recursive_bsearch(arr: list, value: int) -> int:\n",
        "  def search(arr: list, value: int, left: int, right: int) -> int:\n",
        "    if left > right:\n",
        "      return -1\n",
        "    mid = (left + right) // 2\n",
        "    if arr[mid] == value:\n",
        "      return mid\n",
        "    if arr[mid] > value:\n",
        "      return search(arr, value, left, mid - 1)\n",
        "    return search(arr, value, mid + 1, right)\n",
        "  return search(arr, value, 0, len(arr) - 1)"
      ],
      "metadata": {
        "id": "pvhXD8jPvKuB"
      },
      "execution_count": null,
      "outputs": []
    },
    {
      "cell_type": "code",
      "source": [
        "recursive_bsearch([1, 2, 3, 4, 7, 9, 11, 14, 18, 20], 21)"
      ],
      "metadata": {
        "colab": {
          "base_uri": "https://localhost:8080/"
        },
        "id": "hKSxd_anwlsS",
        "outputId": "022f0e98-de3d-499a-c8ca-96f5a2d54d28"
      },
      "execution_count": null,
      "outputs": [
        {
          "output_type": "execute_result",
          "data": {
            "text/plain": [
              "-1"
            ]
          },
          "metadata": {},
          "execution_count": 6
        }
      ]
    }
  ]
}