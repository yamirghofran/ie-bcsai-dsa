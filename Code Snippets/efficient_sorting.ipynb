{
  "nbformat": 4,
  "nbformat_minor": 0,
  "metadata": {
    "colab": {
      "provenance": []
    },
    "kernelspec": {
      "name": "python3",
      "display_name": "Python 3"
    },
    "language_info": {
      "name": "python"
    }
  },
  "cells": [
    {
      "cell_type": "code",
      "execution_count": null,
      "metadata": {
        "id": "X-KcBbu1m4sZ"
      },
      "outputs": [],
      "source": [
        "def quicksort(arr: list) -> list:\n",
        "  if not arr or len(arr) == 1:\n",
        "    return arr\n",
        "  pivot = arr[0]\n",
        "  # left_partition = []\n",
        "  # right_partition = []\n",
        "  # for element in arr[1:]:\n",
        "  #   if element > pivot:\n",
        "  #     right_partition.append(element)\n",
        "  #   else:\n",
        "  #     left_partition.append(element)\n",
        "  left_partition = [element for element in arr[1:] if element <= pivot]\n",
        "  right_partition = [element for element in arr[1:] if element > pivot]\n",
        "  return quicksort(left_partition) + [pivot] + quicksort(right_partition)\n",
        "\n"
      ]
    },
    {
      "cell_type": "code",
      "source": [
        "quicksort([6, 3, 8, 9, 1, 0, 2])"
      ],
      "metadata": {
        "colab": {
          "base_uri": "https://localhost:8080/"
        },
        "id": "ob2prss70uCh",
        "outputId": "34e1b4d4-8a48-4153-fc8f-0cd6debcade6"
      },
      "execution_count": null,
      "outputs": [
        {
          "output_type": "execute_result",
          "data": {
            "text/plain": [
              "[0, 1, 2, 3, 6, 8, 9]"
            ]
          },
          "metadata": {},
          "execution_count": 11
        }
      ]
    },
    {
      "cell_type": "code",
      "source": [
        "def partition(arr, left, right) -> None:\n",
        "  pivot_idx = left +1\n",
        "  pivot_value = arr[pivot_idx]\n",
        "  for i in range(left + 1, right + 1):\n",
        "    if arr[i] > pivot_value:\n",
        "      arr[pivot_idx], arr[i] = arr[i], arr[pivot_idx]\n",
        "\n",
        "\n",
        "\n",
        "def quicksort_inplace(arr: list) -> None:\n"
      ],
      "metadata": {
        "id": "zMm9pezN3_bc"
      },
      "execution_count": null,
      "outputs": []
    }
  ]
}