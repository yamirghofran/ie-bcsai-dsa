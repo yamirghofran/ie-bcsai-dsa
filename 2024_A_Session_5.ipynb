{
  "nbformat": 4,
  "nbformat_minor": 0,
  "metadata": {
    "colab": {
      "provenance": []
    },
    "kernelspec": {
      "name": "python3",
      "display_name": "Python 3"
    },
    "language_info": {
      "name": "python"
    }
  },
  "cells": [
    {
      "cell_type": "code",
      "execution_count": null,
      "metadata": {
        "id": "jUPzUnLc3S2C"
      },
      "outputs": [],
      "source": [
        "class Node:\n",
        "  def __init__(self, value, next):\n",
        "    self.value = value\n",
        "    self.next = next"
      ]
    },
    {
      "cell_type": "code",
      "source": [
        "head = Node(\"butter\", None)\n",
        "head.next = Node(\"milk\", None)\n",
        "print(head)"
      ],
      "metadata": {
        "colab": {
          "base_uri": "https://localhost:8080/"
        },
        "id": "5OqeKGnmyXQD",
        "outputId": "99bc5cc3-ca79-4708-b51e-9765ca2129b2"
      },
      "execution_count": null,
      "outputs": [
        {
          "output_type": "stream",
          "name": "stdout",
          "text": [
            "<__main__.Node object at 0x7f45cbaf45e0>\n"
          ]
        }
      ]
    },
    {
      "cell_type": "code",
      "source": [
        "def print_list(head: Node) -> None:\n",
        "  temp = head\n",
        "  while temp is not None:\n",
        "    print(temp.value)\n",
        "    temp = temp.next\n"
      ],
      "metadata": {
        "id": "YVuK7hGYyysU"
      },
      "execution_count": null,
      "outputs": []
    },
    {
      "cell_type": "code",
      "source": [
        "print_list(head)"
      ],
      "metadata": {
        "colab": {
          "base_uri": "https://localhost:8080/"
        },
        "id": "NRj1Lvh0zTQs",
        "outputId": "7d7fe991-bf48-4ca8-9008-15dc02ee9aad"
      },
      "execution_count": null,
      "outputs": [
        {
          "output_type": "stream",
          "name": "stdout",
          "text": [
            "butter\n",
            "milk\n"
          ]
        }
      ]
    },
    {
      "cell_type": "code",
      "source": [
        "def search(head: Node, value) -> Node:\n",
        "  temp = head\n",
        "  while temp:\n",
        "    if temp.value == value:\n",
        "      return temp\n",
        "    temp = temp.next\n",
        "  return None"
      ],
      "metadata": {
        "id": "f2r7NdoQ0XtI"
      },
      "execution_count": null,
      "outputs": []
    },
    {
      "cell_type": "code",
      "source": [
        "search(head, \"onions\")"
      ],
      "metadata": {
        "id": "wBjPiFDG1FCi"
      },
      "execution_count": null,
      "outputs": []
    },
    {
      "cell_type": "code",
      "source": [
        "def append(head: Node, value) -> Node:\n",
        "  new_element = Node(value, None)\n",
        "  if head is None:\n",
        "    return new_element\n",
        "  temp = head\n",
        "  while temp.next is not None:\n",
        "    temp = temp.next\n",
        "  temp.next = new_element\n",
        "  return head"
      ],
      "metadata": {
        "id": "yDRWzmEm3nlv"
      },
      "execution_count": null,
      "outputs": []
    },
    {
      "cell_type": "code",
      "source": [
        "head = append(None, \"milk\")\n",
        "head = append(head, \"butter\")\n",
        "head = append(head, \"onions\")\n",
        "print_list(head)"
      ],
      "metadata": {
        "colab": {
          "base_uri": "https://localhost:8080/"
        },
        "id": "cjKVEuja4Vn5",
        "outputId": "66447d82-d37e-41d0-f19c-0b5459235f15"
      },
      "execution_count": null,
      "outputs": [
        {
          "output_type": "stream",
          "name": "stdout",
          "text": [
            "milk\n",
            "butter\n",
            "onions\n"
          ]
        }
      ]
    },
    {
      "cell_type": "code",
      "source": [
        "def insert_sorted(head: Node, value) -> Node:\n",
        "  new_item = Node(value, None)\n",
        "  if not head:\n",
        "    return new_item\n",
        "  if head.value > value:\n",
        "    new_item.next = head\n",
        "    return new_item\n",
        "  temp = head\n",
        "  while temp.next and temp.next.value < value:\n",
        "    temp = temp.next\n",
        "  new_item.next = temp.next\n",
        "  temp.next = new_item\n",
        "  return head"
      ],
      "metadata": {
        "id": "s6EfilfX549X"
      },
      "execution_count": null,
      "outputs": []
    },
    {
      "cell_type": "code",
      "source": [
        "head = None\n",
        "head = insert_sorted(head, \"onions\")\n",
        "head = insert_sorted(head, \"apples\")\n",
        "head = insert_sorted(head, \"butter\")\n",
        "head = insert_sorted(head, \"xyz\")\n",
        "print_list(head)"
      ],
      "metadata": {
        "colab": {
          "base_uri": "https://localhost:8080/"
        },
        "id": "SkiLMXxP9JTy",
        "outputId": "a0390d44-a467-4f3e-ab5a-ceca6757ee5a"
      },
      "execution_count": null,
      "outputs": [
        {
          "output_type": "stream",
          "name": "stdout",
          "text": [
            "apples\n",
            "butter\n",
            "onions\n",
            "xyz\n"
          ]
        }
      ]
    }
  ]
}